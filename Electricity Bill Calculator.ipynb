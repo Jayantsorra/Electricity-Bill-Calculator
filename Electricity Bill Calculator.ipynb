{
 "cells": [
  {
   "cell_type": "code",
   "execution_count": 5,
   "id": "2df86c85-5f22-4584-8a3b-4b6f26748cf0",
   "metadata": {},
   "outputs": [
    {
     "name": "stdin",
     "output_type": "stream",
     "text": [
      "Enter units consumed:  300\n",
      "Enter the number of tariff rates:  3\n",
      "Enter limit for rate 1:  100\n",
      "Enter rate for limit 100.0:  23\n",
      "Enter limit for rate 2:  200\n",
      "Enter rate for limit 200.0:  50\n",
      "Enter limit for rate 3:  350\n",
      "Enter rate for limit 350.0:  100\n"
     ]
    },
    {
     "name": "stdout",
     "output_type": "stream",
     "text": [
      "Electricity bill for 300.0 units: $32300.00\n"
     ]
    }
   ],
   "source": [
    "def calculate_electricity_bill(units, tariff_rates):\n",
    "    total_bill = 0\n",
    "    remaining_units = units\n",
    "\n",
    "    # Calculate bill based on user-defined tariff rates\n",
    "    for limit, rate in tariff_rates.items():\n",
    "        if remaining_units <= 0:\n",
    "            break\n",
    "        elif remaining_units <= limit:\n",
    "            total_bill += remaining_units * rate\n",
    "        else:\n",
    "            total_bill += (limit - 0) * rate\n",
    "            remaining_units -= (limit - 0)\n",
    "\n",
    "    return total_bill\n",
    "\n",
    "def main():\n",
    "    try:\n",
    "        # Get input from user\n",
    "        units = float(input(\"Enter units consumed: \"))\n",
    "        \n",
    "        # Get user-defined tariff rates\n",
    "        tariff_rates = {}\n",
    "        num_rates = int(input(\"Enter the number of tariff rates: \"))\n",
    "        for i in range(num_rates):\n",
    "            limit = float(input(f\"Enter limit for rate {i + 1}: \"))\n",
    "            rate = float(input(f\"Enter rate for limit {limit}: \"))\n",
    "            tariff_rates[limit] = rate\n",
    "\n",
    "        # Validate input\n",
    "        if units < 0:\n",
    "            print(\"Invalid input. Units consumed cannot be negative.\")\n",
    "        else:\n",
    "            # Calculate and display bill\n",
    "            bill = calculate_electricity_bill(units, tariff_rates)\n",
    "            print(f\"Electricity bill for {units} units: ${bill:.2f}\")\n",
    "    except ValueError:\n",
    "        print(\"Invalid input. Please enter valid numbers.\")\n",
    "\n",
    "if __name__ == \"__main__\":\n",
    "    main()"
   ]
  },
  {
   "cell_type": "code",
   "execution_count": null,
   "id": "dc16bce9-9a89-407c-bf9e-75ec693144ed",
   "metadata": {},
   "outputs": [],
   "source": []
  }
 ],
 "metadata": {
  "kernelspec": {
   "display_name": "Python 3 (ipykernel)",
   "language": "python",
   "name": "python3"
  },
  "language_info": {
   "codemirror_mode": {
    "name": "ipython",
    "version": 3
   },
   "file_extension": ".py",
   "mimetype": "text/x-python",
   "name": "python",
   "nbconvert_exporter": "python",
   "pygments_lexer": "ipython3",
   "version": "3.11.7"
  }
 },
 "nbformat": 4,
 "nbformat_minor": 5
}
